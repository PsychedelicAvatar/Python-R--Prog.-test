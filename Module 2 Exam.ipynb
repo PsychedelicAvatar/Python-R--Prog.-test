{
  "nbformat": 4,
  "nbformat_minor": 0,
  "metadata": {
    "colab": {
      "name": "Module Exam.ipynb",
      "provenance": [],
      "collapsed_sections": []
    },
    "kernelspec": {
      "name": "python3",
      "display_name": "Python 3"
    },
    "language_info": {
      "name": "python"
    }
  },
  "cells": [
    {
      "cell_type": "markdown",
      "source": [
        "Q2."
      ],
      "metadata": {
        "id": "DPnX1cYeGe85"
      }
    },
    {
      "cell_type": "code",
      "execution_count": null,
      "metadata": {
        "colab": {
          "base_uri": "https://localhost:8080/"
        },
        "id": "SZ7ktRy4k_LD",
        "outputId": "cb30f404-7367-4604-f3bf-6b377ceab6a7"
      },
      "outputs": [
        {
          "output_type": "stream",
          "name": "stdout",
          "text": [
            "9.5\n"
          ]
        }
      ],
      "source": [
        "def avg(*n):\n",
        "  avg=sum(n)/len(n)\n",
        "  print(avg)\n",
        "avg(8,9,10,11)"
      ]
    },
    {
      "cell_type": "markdown",
      "source": [
        "Q5."
      ],
      "metadata": {
        "id": "lAwhhNXnG4VB"
      }
    },
    {
      "cell_type": "code",
      "source": [
        "class Maths:\n",
        "  def Add(my,a,b):\n",
        "    my.sum=a+b\n",
        "    print(my.sum)\n",
        "  def Div(my,a,b):\n",
        "    my.div=a/b\n",
        "    print(my.div)\n",
        "  def Sub(my,a,b):\n",
        "    my.sub=a-b\n",
        "    print(my.sub)\n",
        "  def Mul(my,a,b):\n",
        "    my.mul=a*b\n",
        "    print(my.mul)\n",
        "\n",
        "\n",
        "f=Maths()\n",
        "f.Add(5,6)\n",
        "f.Div(6,7)\n",
        "f.Sub(7,8)\n",
        "f.Mul(8,9)"
      ],
      "metadata": {
        "colab": {
          "base_uri": "https://localhost:8080/"
        },
        "id": "ywPYTx1JnS6T",
        "outputId": "63a72ff7-64b1-46d1-8112-0dca77519478"
      },
      "execution_count": null,
      "outputs": [
        {
          "output_type": "stream",
          "name": "stdout",
          "text": [
            "11\n",
            "0.8571428571428571\n",
            "-1\n",
            "72\n"
          ]
        }
      ]
    },
    {
      "cell_type": "markdown",
      "source": [
        "Q1."
      ],
      "metadata": {
        "id": "LVNzGALOGqtH"
      }
    },
    {
      "cell_type": "code",
      "source": [
        "hrs=40\n",
        "min=30\n",
        "sec=hrs*3600+min*60\n",
        "print(sec)"
      ],
      "metadata": {
        "colab": {
          "base_uri": "https://localhost:8080/"
        },
        "id": "UkNJKY_armVu",
        "outputId": "ce1b206b-5532-40f4-a8d8-a51f548fdfd2"
      },
      "execution_count": null,
      "outputs": [
        {
          "output_type": "stream",
          "name": "stdout",
          "text": [
            "145800\n"
          ]
        }
      ]
    },
    {
      "cell_type": "markdown",
      "source": [
        "Q4."
      ],
      "metadata": {
        "id": "9rwEXT3LG7ax"
      }
    },
    {
      "cell_type": "code",
      "source": [
        "a=input('Enter number')\n",
        "for i in a:\n",
        "  if int(i)==1:\n",
        "    print('One')\n",
        "  elif int(i)==2:\n",
        "    print('Two')\n",
        "  elif int(i)==3:\n",
        "    print('Three')\n",
        "  elif int(i)==4:\n",
        "    print('Four')\n",
        "  elif int(i)==5:\n",
        "    print('Five')\n",
        "  elif int(i)==6:\n",
        "    print('Six')\n",
        "  elif int(i)==7:\n",
        "    print('Seven')\n",
        "  elif int(i)==8:\n",
        "    print('Eight')\n",
        "  elif int(i)==9:\n",
        "    print('Nine')\n",
        "  elif int(i)==0:\n",
        "    print('Zero')"
      ],
      "metadata": {
        "colab": {
          "base_uri": "https://localhost:8080/"
        },
        "id": "zvyNURzcy6qX",
        "outputId": "7d6f3faa-8488-4caa-a5fc-baa62fd882c5"
      },
      "execution_count": null,
      "outputs": [
        {
          "output_type": "stream",
          "name": "stdout",
          "text": [
            "Enter number8745\n",
            "Eight\n",
            "Seven\n",
            "Four\n",
            "Five\n"
          ]
        }
      ]
    },
    {
      "cell_type": "markdown",
      "source": [
        "Q8."
      ],
      "metadata": {
        "id": "nYWky4-wG_5q"
      }
    },
    {
      "cell_type": "code",
      "source": [
        "for i in range(1,8):\n",
        "  if i==2 or i==4:\n",
        "    continue\n",
        "  for j in range(1,i+1):\n",
        "    print(i,end='')\n",
        "  print()"
      ],
      "metadata": {
        "colab": {
          "base_uri": "https://localhost:8080/"
        },
        "id": "e2nXVgwp0inP",
        "outputId": "1ae30902-b0ec-4974-e309-52277794c336"
      },
      "execution_count": null,
      "outputs": [
        {
          "output_type": "stream",
          "name": "stdout",
          "text": [
            "1\n",
            "333\n",
            "55555\n",
            "666666\n",
            "7777777\n"
          ]
        }
      ]
    },
    {
      "cell_type": "markdown",
      "source": [
        "Q9."
      ],
      "metadata": {
        "id": "hm5vqu-VHCpy"
      }
    },
    {
      "cell_type": "code",
      "source": [
        "a='this is a test'\n",
        "for i in range(len(a)):\n",
        "  if i%2!=0:\n",
        "    print(a[i],end='')\n",
        "    "
      ],
      "metadata": {
        "colab": {
          "base_uri": "https://localhost:8080/"
        },
        "id": "GqElT2RO1RZq",
        "outputId": "94d2d21b-aca2-42a9-f073-fade013de354"
      },
      "execution_count": null,
      "outputs": [
        {
          "output_type": "stream",
          "name": "stdout",
          "text": [
            "hsi  et"
          ]
        }
      ]
    },
    {
      "cell_type": "code",
      "source": [
        ""
      ],
      "metadata": {
        "id": "L2q8tVIX1vrN"
      },
      "execution_count": null,
      "outputs": []
    }
  ]
}